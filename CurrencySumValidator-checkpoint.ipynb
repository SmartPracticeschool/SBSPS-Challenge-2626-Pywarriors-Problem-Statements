{
 "cells": [
  {
   "cell_type": "markdown",
   "metadata": {},
   "source": [
    "# Currency Sum Validator"
   ]
  },
  {
   "cell_type": "code",
   "execution_count": 1,
   "metadata": {},
   "outputs": [],
   "source": [
    "# The function bill_count for the Currency Sum Validator that takes two arguments\n",
    "# Amount of money\n",
    "# List of bills available\n",
    "def bill_count(amt_of_money,bills):\n",
    "    count=0\n",
    "    indian_currency=[1,2,5,10,20,50,100,200,500,1000,2000]\n",
    "    dic = {}\n",
    "    #condition to check Amount of money is greater than List of Money Bills \n",
    "    #no negetive values appear in list and amount of money\n",
    "    #checking list of money bills contain only indian standard currency\n",
    "    if(amt_of_money>min(bills) and amt_of_money>0 and all(n>0 for n in bills) and all(x in indian_currency for x in bills)):\n",
    "        bills.sort(reverse=True) # sorting list of bills in reversed order\n",
    "        for bill in bills:\n",
    "            if(amt_of_money>=bill):\n",
    "                count+=amt_of_money//bill\n",
    "                dic[\"{0}rs\".format(bill)]=amt_of_money//bill\n",
    "                amt_of_money%=bill\n",
    "        for k,v in dic.items():\n",
    "            print(k,\"count:\",v)\n",
    "        print(\"total count:\",count)\n",
    "    elif(any(n<0 for n in bills)):\n",
    "        return \"list of bills should not contain negative values\"\n",
    "    elif(amt_of_money<0):\n",
    "        return \"amount of money should not be negative\"\n",
    "    elif(not(all(x in indian_currency for x in bills))):\n",
    "        return \"list of bill should only contain indian standard currency value\"\n",
    "    else:\n",
    "        return \"amount of money is less than the list of bill values\"\n",
    "    "
   ]
  },
  {
   "cell_type": "code",
   "execution_count": 2,
   "metadata": {},
   "outputs": [
    {
     "name": "stdout",
     "output_type": "stream",
     "text": [
      "20rs count: 5\n",
      "total count: 5\n"
     ]
    }
   ],
   "source": [
    "bill_count(100, [1, 10, 20])"
   ]
  },
  {
   "cell_type": "code",
   "execution_count": 3,
   "metadata": {},
   "outputs": [
    {
     "name": "stdout",
     "output_type": "stream",
     "text": [
      "100rs count: 10\n",
      "20rs count: 2\n",
      "10rs count: 1\n",
      "total count: 13\n"
     ]
    }
   ],
   "source": [
    "bill_count(1050, [1, 10, 20, 100])"
   ]
  },
  {
   "cell_type": "code",
   "execution_count": 4,
   "metadata": {},
   "outputs": [
    {
     "name": "stdout",
     "output_type": "stream",
     "text": [
      "1rs count: 3\n",
      "total count: 3\n"
     ]
    }
   ],
   "source": [
    "bill_count(3, [1, 10])"
   ]
  },
  {
   "cell_type": "code",
   "execution_count": 5,
   "metadata": {},
   "outputs": [
    {
     "name": "stdout",
     "output_type": "stream",
     "text": [
      "50rs count: 1\n",
      "5rs count: 1\n",
      "total count: 2\n"
     ]
    }
   ],
   "source": [
    "bill_count(55, [1, 5, 10, 50])"
   ]
  },
  {
   "cell_type": "code",
   "execution_count": 6,
   "metadata": {},
   "outputs": [
    {
     "data": {
      "text/plain": [
       "'list of bills should not contain negative values'"
      ]
     },
     "execution_count": 6,
     "metadata": {},
     "output_type": "execute_result"
    }
   ],
   "source": [
    "bill_count(55, [-1, 5, 10, 50])"
   ]
  },
  {
   "cell_type": "code",
   "execution_count": 7,
   "metadata": {},
   "outputs": [
    {
     "data": {
      "text/plain": [
       "'amount of money is less than the list of bill values'"
      ]
     },
     "execution_count": 7,
     "metadata": {},
     "output_type": "execute_result"
    }
   ],
   "source": [
    "bill_count(0.5, [1, 10])"
   ]
  },
  {
   "cell_type": "code",
   "execution_count": 8,
   "metadata": {},
   "outputs": [
    {
     "data": {
      "text/plain": [
       "'amount of money should not be negative'"
      ]
     },
     "execution_count": 8,
     "metadata": {},
     "output_type": "execute_result"
    }
   ],
   "source": [
    "bill_count(-1050, [1, 10, 20, 100])"
   ]
  },
  {
   "cell_type": "code",
   "execution_count": 9,
   "metadata": {},
   "outputs": [
    {
     "data": {
      "text/plain": [
       "'amount of money should not be negative'"
      ]
     },
     "execution_count": 9,
     "metadata": {},
     "output_type": "execute_result"
    }
   ],
   "source": [
    "bill_count(-1050, [1, 10, 20, 100])"
   ]
  },
  {
   "cell_type": "code",
   "execution_count": 10,
   "metadata": {},
   "outputs": [
    {
     "data": {
      "text/plain": [
       "'list of bill should only contain indian standard currency value'"
      ]
     },
     "execution_count": 10,
     "metadata": {},
     "output_type": "execute_result"
    }
   ],
   "source": [
    "bill_count(1050, [1, 10, 20, 100,40])"
   ]
  },
  {
   "cell_type": "code",
   "execution_count": 11,
   "metadata": {},
   "outputs": [
    {
     "name": "stdout",
     "output_type": "stream",
     "text": [
      "2000rs count: 50\n",
      "200rs count: 1\n",
      "100rs count: 1\n",
      "2rs count: 1\n",
      "1rs count: 1\n",
      "total count: 54\n"
     ]
    }
   ],
   "source": [
    "bill_count(100303, [1,2,10, 20, 100,200,500,2000])"
   ]
  },
  {
   "cell_type": "code",
   "execution_count": 12,
   "metadata": {},
   "outputs": [
    {
     "name": "stdout",
     "output_type": "stream",
     "text": [
      "2000rs count: 61728394500\n",
      "100rs count: 1\n",
      "20rs count: 1\n",
      "2rs count: 1\n",
      "1rs count: 1\n",
      "total count: 61728394504\n"
     ]
    }
   ],
   "source": [
    "bill_count(123456789000123,[1,2,5,10,20,50,100,200,500,2000])"
   ]
  },
  {
   "cell_type": "code",
   "execution_count": 13,
   "metadata": {},
   "outputs": [
    {
     "name": "stdout",
     "output_type": "stream",
     "text": [
      "2000rs count: 5\n",
      "500rs count: 2\n",
      "100rs count: 1\n",
      "10rs count: 1\n",
      "1rs count: 1\n",
      "total count: 10\n"
     ]
    }
   ],
   "source": [
    "bill_count(11111, [1,2,10, 20, 100,200,500,2000])"
   ]
  }
 ],
 "metadata": {
  "kernelspec": {
   "display_name": "Python 3",
   "language": "python",
   "name": "python3"
  },
  "language_info": {
   "codemirror_mode": {
    "name": "ipython",
    "version": 3
   },
   "file_extension": ".py",
   "mimetype": "text/x-python",
   "name": "python",
   "nbconvert_exporter": "python",
   "pygments_lexer": "ipython3",
   "version": "3.6.5"
  }
 },
 "nbformat": 4,
 "nbformat_minor": 2
}
