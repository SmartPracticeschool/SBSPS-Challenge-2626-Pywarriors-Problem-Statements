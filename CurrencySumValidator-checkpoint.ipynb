{
 "cells": [
  {
   "cell_type": "markdown",
   "metadata": {},
   "source": [
    "# Currency Sum Validator"
   ]
  },
  {
   "cell_type": "code",
   "execution_count": 55,
   "metadata": {},
   "outputs": [],
   "source": [
    "# The function bill_count for the Currency Sum Validator that takes two arguments\n",
    "# Amount of money\n",
    "# List of bills available\n",
    "def bill_count(amt_of_money,bills):\n",
    "    count=0\n",
    "    indian_currency=[1,2,5,10,20,50,100,200,500,1000,2000]\n",
    "    #condition to check Amount of money is greater than List of Money Bills\n",
    "    #no negetive values appear in list and amount of money\n",
    "    #checking list of money bills contain only indian standard currency\n",
    "    if(amt_of_money>min(bills) and amt_of_money>0 and all(n>0 for n in bills)and all(x in indian_currency for x in bills)):\n",
    "        bills.sort(reverse=True) # sorting list of bills in reversed order\n",
    "        for bill in bills:\n",
    "            if(amt_of_money>=bill):\n",
    "                count+=amt_of_money//bill\n",
    "                amt_of_money%=bill\n",
    "        return count\n",
    "    else:\n",
    "        return \"input may contain the following error \\\n",
    "                1.amount of money greater than list of money bills \\\n",
    "                2.no negetive values should appear in list and amount of money \\\n",
    "                3.list of money bill should only contain indian standard currency values\"\n",
    "    "
   ]
  },
  {
   "cell_type": "code",
   "execution_count": 56,
   "metadata": {},
   "outputs": [
    {
     "data": {
      "text/plain": [
       "5"
      ]
     },
     "execution_count": 56,
     "metadata": {},
     "output_type": "execute_result"
    }
   ],
   "source": [
    "bill_count(100, [1, 10, 20])"
   ]
  },
  {
   "cell_type": "code",
   "execution_count": 57,
   "metadata": {},
   "outputs": [
    {
     "data": {
      "text/plain": [
       "13"
      ]
     },
     "execution_count": 57,
     "metadata": {},
     "output_type": "execute_result"
    }
   ],
   "source": [
    "bill_count(1050, [1, 10, 20, 100])"
   ]
  },
  {
   "cell_type": "code",
   "execution_count": 58,
   "metadata": {},
   "outputs": [
    {
     "data": {
      "text/plain": [
       "3"
      ]
     },
     "execution_count": 58,
     "metadata": {},
     "output_type": "execute_result"
    }
   ],
   "source": [
    "bill_count(3, [1, 10])"
   ]
  },
  {
   "cell_type": "code",
   "execution_count": 59,
   "metadata": {},
   "outputs": [
    {
     "data": {
      "text/plain": [
       "2"
      ]
     },
     "execution_count": 59,
     "metadata": {},
     "output_type": "execute_result"
    }
   ],
   "source": [
    "bill_count(55, [1, 5, 10, 50])"
   ]
  },
  {
   "cell_type": "code",
   "execution_count": 60,
   "metadata": {},
   "outputs": [
    {
     "data": {
      "text/plain": [
       "'input may contain the following error                 1.amount of money greater than list of money bills                 2.no negetive values should appear in list and amount of money                 3.list of money bill should only contain indian standard currency values'"
      ]
     },
     "execution_count": 60,
     "metadata": {},
     "output_type": "execute_result"
    }
   ],
   "source": [
    "bill_count(55, [-1, 5, 10, 50])"
   ]
  },
  {
   "cell_type": "code",
   "execution_count": 61,
   "metadata": {},
   "outputs": [
    {
     "data": {
      "text/plain": [
       "'input may contain the following error                 1.amount of money greater than list of money bills                 2.no negetive values should appear in list and amount of money                 3.list of money bill should only contain indian standard currency values'"
      ]
     },
     "execution_count": 61,
     "metadata": {},
     "output_type": "execute_result"
    }
   ],
   "source": [
    "bill_count(0.5, [1, 10])"
   ]
  },
  {
   "cell_type": "code",
   "execution_count": 62,
   "metadata": {},
   "outputs": [
    {
     "data": {
      "text/plain": [
       "'input may contain the following error                 1.amount of money greater than list of money bills                 2.no negetive values should appear in list and amount of money                 3.list of money bill should only contain indian standard currency values'"
      ]
     },
     "execution_count": 62,
     "metadata": {},
     "output_type": "execute_result"
    }
   ],
   "source": [
    "bill_count(-1050, [1, 10, 20, 100])"
   ]
  },
  {
   "cell_type": "code",
   "execution_count": 63,
   "metadata": {},
   "outputs": [
    {
     "data": {
      "text/plain": [
       "'input may contain the following error                 1.amount of money greater than list of money bills                 2.no negetive values should appear in list and amount of money                 3.list of money bill should only contain indian standard currency values'"
      ]
     },
     "execution_count": 63,
     "metadata": {},
     "output_type": "execute_result"
    }
   ],
   "source": [
    "bill_count(-1050, [1, 10, 20, 100])"
   ]
  },
  {
   "cell_type": "code",
   "execution_count": 26,
   "metadata": {},
   "outputs": [
    {
     "data": {
      "text/plain": [
       "'input may contain the following error                 1.amount of money greater than list of money bills                 2.no negetive values should appear in list and amount of money                 3.list of money bill should only contain indian standard currency values'"
      ]
     },
     "execution_count": 26,
     "metadata": {},
     "output_type": "execute_result"
    }
   ],
   "source": [
    "bill_count(1050, [1, 10, 20, 100,40])"
   ]
  },
  {
   "cell_type": "code",
   "execution_count": null,
   "metadata": {},
   "outputs": [],
   "source": []
  }
 ],
 "metadata": {
  "kernelspec": {
   "display_name": "Python 3",
   "language": "python",
   "name": "python3"
  },
  "language_info": {
   "codemirror_mode": {
    "name": "ipython",
    "version": 3
   },
   "file_extension": ".py",
   "mimetype": "text/x-python",
   "name": "python",
   "nbconvert_exporter": "python",
   "pygments_lexer": "ipython3",
   "version": "3.6.5"
  }
 },
 "nbformat": 4,
 "nbformat_minor": 2
}
